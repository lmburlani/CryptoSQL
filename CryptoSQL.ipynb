{
  "nbformat": 4,
  "nbformat_minor": 0,
  "metadata": {
    "colab": {
      "provenance": []
    },
    "kernelspec": {
      "name": "python3",
      "display_name": "Python 3"
    },
    "language_info": {
      "name": "python"
    }
  },
  "cells": [
    {
      "cell_type": "code",
      "execution_count": null,
      "metadata": {
        "id": "CLOSuE6dW4-8"
      },
      "outputs": [],
      "source": [
        "from yahoo_fin import stock_info as si\n",
        "from kafka import KafkaProducer\n",
        "import json\n",
        "import time\n",
        "from sqlalchemy import create_engine\n",
        "import pandas as pd\n",
        "\n",
        "# Define as criptomoedas que deseja coletar dados\n",
        "crypto_list = [\"BTC-USD\", \"ETH-USD\", \"LTC-USD\"]\n",
        "\n",
        "# Define as moedas nas quais deseja obter os preços\n",
        "currency_list = [\"USD\", \"EUR\", \"ARS\", \"BRL\"]\n",
        "\n",
        "# Configurações do Apache Kafka\n",
        "bootstrap_servers = ['localhost:9092']\n",
        "topic_name = 'crypto_prices'\n",
        "\n",
        "# Configurações do MySQL\n",
        "db_username = 'seu_usuario'\n",
        "db_password = 'sua_senha'\n",
        "db_host = 'localhost'\n",
        "db_name = 'crypto_data'\n",
        "\n",
        "# Cria a conexão do SQL Alchemy\n",
        "engine = create_engine(f'mysql+pymysql://{db_username}:{db_password}@{db_host}/{db_name}')\n",
        "\n",
        "# Cria o produtor do Kafka\n",
        "producer = KafkaProducer(bootstrap_servers=bootstrap_servers,\n",
        "                         value_serializer=lambda x: json.dumps(x).encode('utf-8'))\n",
        "\n",
        "# Loop infinito para coletar, enviar e armazenar dados\n",
        "while True:\n",
        "    # Coleta os dados de preço das criptomoedas em diferentes moedas\n",
        "    crypto_prices = {}\n",
        "    for crypto in crypto_list:\n",
        "        quote_table = si.get_quote_table(crypto)\n",
        "        for currency in currency_list:\n",
        "            price_key = crypto.replace(\"-USD\", f\"-{currency}\")\n",
        "            price_value = quote_table[f\"Price ({currency})\"]\n",
        "            crypto_prices[price_key] = price_value\n",
        "\n",
        "    # Envia os dados para o Kafka\n",
        "    producer.send(topic_name, value=crypto_prices)\n",
        "\n",
        "    # Cria um dataframe com os dados de preço das criptomoedas\n",
        "    df = pd.DataFrame.from_dict(crypto_prices, orient='index', columns=['price'])\n",
        "\n",
        "    # Adiciona as colunas de data e hora e de moeda\n",
        "    df['timestamp'] = pd.Timestamp.now()\n",
        "    df['crypto_currency'] = [crypto.split(\"-\")[0] for crypto in df.index]\n",
        "    df['fiat_currency'] = [crypto.split(\"-\")[1] for crypto in df.index]\n",
        "\n",
        "    # Salva os dados no banco de dados MySQL usando SQL Alchemy\n",
        "    df.to_sql('crypto_prices', con=engine, if_exists='append', index=False)\n",
        "\n",
        "    # Espera 5 segundos antes de coletar e enviar novos dados\n",
        "    time.sleep(5)\n",
        "\n"
      ]
    }
  ]
}